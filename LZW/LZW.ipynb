{
  "cells": [
    {
      "cell_type": "code",
      "execution_count": 1,
      "metadata": {
        "id": "DAB8mgb98_oq"
      },
      "outputs": [],
      "source": [
        "import numpy as np\n",
        "import pickle\n",
        "import os\n",
        "import time"
      ]
    },
    {
      "cell_type": "markdown",
      "metadata": {
        "id": "YYCWygKc3QB6"
      },
      "source": [
        "# LZW"
      ]
    },
    {
      "cell_type": "code",
      "execution_count": 2,
      "metadata": {
        "id": "KRtPT9vJ7kdE"
      },
      "outputs": [],
      "source": [
        "def lzw_encode(data):\n",
        "    dictionary = {bytes([i]): i for i in range(256)}\n",
        "    next_code = 256\n",
        "    result = []\n",
        "    current_sequence = b\"\"\n",
        "\n",
        "    for byte in data:\n",
        "        current_sequence += bytes([byte])\n",
        "        if current_sequence not in dictionary:\n",
        "            dictionary[current_sequence] = next_code\n",
        "            next_code += 1\n",
        "            result.append(dictionary[current_sequence[:-1]])\n",
        "            current_sequence = bytes([byte])\n",
        "\n",
        "    result.append(dictionary[current_sequence])\n",
        "    return result"
      ]
    },
    {
      "cell_type": "code",
      "execution_count": 3,
      "metadata": {
        "id": "VViq3MvlFJnM"
      },
      "outputs": [],
      "source": [
        "def lzw_decode(encoded_data):\n",
        "    dictionary = {i: bytes([i]) for i in range(256)}\n",
        "    next_code = 256\n",
        "    result = []\n",
        "    current_sequence = chr(encoded_data[0]).encode()\n",
        "    result.append(current_sequence)\n",
        "\n",
        "    for code in encoded_data[1:]:\n",
        "        if code in dictionary:\n",
        "            entry = dictionary[code]\n",
        "        elif code == next_code:\n",
        "            entry = current_sequence + current_sequence[0:1]\n",
        "        else:\n",
        "            raise ValueError(\"Invalid LZW code\")\n",
        "\n",
        "        result.append(entry)\n",
        "        dictionary[next_code] = current_sequence + entry[0:1]\n",
        "        next_code += 1\n",
        "        current_sequence = entry\n",
        "\n",
        "    return b\"\".join(result)"
      ]
    },
    {
      "cell_type": "code",
      "execution_count": 4,
      "metadata": {},
      "outputs": [],
      "source": [
        "def run(path, filename):\n",
        "    # Load image\n",
        "    with open(path, 'rb') as f:\n",
        "        data = f.read()\n",
        "\n",
        "    # Get access path\n",
        "    if \"TEXT\" in path:\n",
        "        path = path.replace('/TEXT\\\\' +  filename,'')\n",
        "    elif \"SOUND\" in path:\n",
        "        path = path.replace('/SOUND\\\\' +  filename,'')\n",
        "    else:\n",
        "        path = path.replace('/IMG\\\\' +  filename,'')\n",
        "    \n",
        "    # Compress file and save to file\n",
        "    format = filename.split(\".\")[1]\n",
        "    savingDirectory = os.path.join(os.getcwd(), 'CompressedFiles/' + format)\n",
        "    if not os.path.isdir(savingDirectory):\n",
        "        os.makedirs(savingDirectory)\n",
        "    file = filename.split(\".\")[0] + '_compressed.pkl'\n",
        "    with open(os.path.join(savingDirectory, file), 'wb') as f:\n",
        "        pickle.dump(lzw_encode(data), f)\n",
        "\n",
        "    # Decompress file\n",
        "    with open(os.path.join(savingDirectory, file), 'rb') as f:\n",
        "        compressed_data = pickle.load(f)\n",
        "    decompressed_data = lzw_decode(compressed_data)\n",
        "\n",
        "    # Save file\n",
        "    savingDirectory = os.path.join(path,'DecompressedFiles/'  + format)\n",
        "    if not os.path.isdir(savingDirectory):\n",
        "        os.makedirs(savingDirectory)\n",
        "\n",
        "    save_path = os.path.join(savingDirectory, filename.split(\".\")[0] + '_decompressed.' + format)\n",
        "    with open(save_path, 'wb') as f:\n",
        "        f.write(decompressed_data)"
      ]
    },
    {
      "attachments": {},
      "cell_type": "markdown",
      "metadata": {},
      "source": [
        "# Path to folder contain data "
      ]
    },
    {
      "cell_type": "code",
      "execution_count": 5,
      "metadata": {},
      "outputs": [],
      "source": [
        "path = r'E:\\UIT\\3rd year\\Sem 2\\CS232\\Seminar'"
      ]
    },
    {
      "cell_type": "markdown",
      "metadata": {
        "id": "eKM3yaFpOHFQ"
      },
      "source": [
        "## Sound"
      ]
    },
    {
      "cell_type": "code",
      "execution_count": 6,
      "metadata": {},
      "outputs": [
        {
          "name": "stdout",
          "output_type": "stream",
          "text": [
            "Progress: 4/4 [##########] (100.00%)\n",
            "Done\n",
            "--- 5.105449438095093 seconds ---\n"
          ]
        }
      ],
      "source": [
        "path_sound = path + '/SOUND'\n",
        "start_time = time.time()\n",
        "file_list = os.listdir(path_sound)\n",
        "total = len(file_list)\n",
        "\n",
        "for count, filename in enumerate(file_list):\n",
        "    time.sleep(0.01)\n",
        "    run(os.path.join(path_sound, filename), filename)\n",
        "    progress_percent = (count + 1) / total * 100\n",
        "    progress_bar = \"[\" + \"#\" * int(progress_percent / 10) + \" \" * (10 - int(progress_percent / 10)) + \"]\"\n",
        "    print(f\"Progress: {count+1}/{total} {progress_bar} ({progress_percent:.2f}%)\", end=\"\\r\")\n",
        "\n",
        "print(\"\\nDone\")\n",
        "print(\"--- %s seconds ---\" % (time.time() - start_time))"
      ]
    },
    {
      "cell_type": "code",
      "execution_count": 7,
      "metadata": {},
      "outputs": [
        {
          "name": "stdout",
          "output_type": "stream",
          "text": [
            "00ae03f6 1.5688488504810043\n",
            "00eac343 1.2853037600679968\n",
            "0a5cbf90 1.430926893867191\n",
            "sound 0.8544487556339408\n"
          ]
        }
      ],
      "source": [
        "path_commpress_sound = path + '/CompressedFiles/wav'\n",
        "for i, j in zip(os.listdir(path_sound), os.listdir(path_commpress_sound)):\n",
        "    with open(\"LZW_Compression_Ratio_sound.txt\", \"a\") as f:\n",
        "        f.write(str(i.split(\".\")[0]) + \" \" + str((os.path.getsize(os.path.join(path_commpress_sound, j)))/os.path.getsize(os.path.join(path_sound, i))) + \"\\n\")\n",
        "    print(str(i.split(\".\")[0]) + \" \" + str((os.path.getsize(os.path.join(path_commpress_sound, j)))/os.path.getsize(os.path.join(path_sound, i))))"
      ]
    },
    {
      "cell_type": "markdown",
      "metadata": {
        "id": "qrocHEkkMj_8"
      },
      "source": [
        "## Text"
      ]
    },
    {
      "cell_type": "code",
      "execution_count": 8,
      "metadata": {
        "id": "wDVSSOAJMls0"
      },
      "outputs": [
        {
          "name": "stdout",
          "output_type": "stream",
          "text": [
            "Progress: 4/4 [##########] (100.00%)\n",
            "Done\n",
            "--- 0.2789933681488037 seconds ---\n"
          ]
        }
      ],
      "source": [
        "path_text = path + '/TEXT'\n",
        "start_time = time.time()\n",
        "file_list = os.listdir(path_text)\n",
        "total = len(file_list)\n",
        "\n",
        "for count, filename in enumerate(file_list):\n",
        "    time.sleep(0.01)\n",
        "    run(os.path.join(path_text, filename), filename)\n",
        "    progress_percent = (count + 1) / total * 100\n",
        "    progress_bar = \"[\" + \"#\" * int(progress_percent / 10) + \" \" * (10 - int(progress_percent / 10)) + \"]\"\n",
        "    print(f\"Progress: {count+1}/{total} {progress_bar} ({progress_percent:.2f}%)\", end=\"\\r\")\n",
        "\n",
        "print(\"\\nDone\")\n",
        "print(\"--- %s seconds ---\" % (time.time() - start_time))"
      ]
    },
    {
      "cell_type": "code",
      "execution_count": 9,
      "metadata": {},
      "outputs": [
        {
          "name": "stdout",
          "output_type": "stream",
          "text": [
            "Text 1.4516933305630584\n",
            "Text1 1.0850992824962455\n",
            "Text2 0.7971638844013642\n",
            "Text3 1.6331544761366845\n"
          ]
        }
      ],
      "source": [
        "path_commpress_text = path + '/CompressedFiles/txt'\n",
        "for i, j in zip(os.listdir(path_text), os.listdir(path_commpress_text)):\n",
        "    with open(\"LZW_Compression_Ratio_text.txt\", \"a\") as f:\n",
        "        f.write(str(i.split(\".\")[0]) + \" \" + str((os.path.getsize(os.path.join(path_commpress_text, j)))/os.path.getsize(os.path.join(path_text, i))) + \"\\n\")\n",
        "    print(str(i.split(\".\")[0]) + \" \" + str((os.path.getsize(os.path.join(path_commpress_text, j)))/os.path.getsize(os.path.join(path_text, i))))"
      ]
    },
    {
      "attachments": {},
      "cell_type": "markdown",
      "metadata": {},
      "source": [
        "## Image"
      ]
    },
    {
      "cell_type": "code",
      "execution_count": 10,
      "metadata": {
        "id": "ftRQnWaMMls2"
      },
      "outputs": [
        {
          "name": "stdout",
          "output_type": "stream",
          "text": [
            "Progress: 13/13 [##########] (100.00%)\n",
            "Done\n",
            "--- 11.781694650650024 seconds ---\n"
          ]
        }
      ],
      "source": [
        "path_img = path + '/IMG'\n",
        "start_time = time.time()\n",
        "file_list = os.listdir(path_img)\n",
        "total = len(file_list)\n",
        "\n",
        "for count, filename in enumerate(file_list):\n",
        "    time.sleep(0.01)\n",
        "    run(os.path.join(path_img, filename), filename)\n",
        "    progress_percent = (count + 1) / total * 100\n",
        "    progress_bar = \"[\" + \"#\" * int(progress_percent / 10) + \" \" * (10 - int(progress_percent / 10)) + \"]\"\n",
        "    print(f\"Progress: {count+1}/{total} {progress_bar} ({progress_percent:.2f}%)\", end=\"\\r\")\n",
        "\n",
        "print(\"\\nDone\")\n",
        "print(\"--- %s seconds ---\" % (time.time() - start_time))"
      ]
    },
    {
      "cell_type": "code",
      "execution_count": 11,
      "metadata": {},
      "outputs": [
        {
          "name": "stdout",
          "output_type": "stream",
          "text": [
            "2heart 0.010218069414137446\n",
            "background 1.1916874628981782\n",
            "beach 0.9063172628715551\n",
            "cartoon 0.9906987044624073\n",
            "hanamichi 0.09110058820905802\n",
            "harrypotter 0.8410773646542337\n",
            "heart 0.06802547046449485\n",
            "people 1.3155922977052668\n",
            "pikachu 0.5586536221756347\n",
            "planet 0.5972818875707774\n",
            "rukawa 1.095062052662683\n",
            "spiderman 0.887918933146166\n",
            "todolist 1.1100092555864076\n"
          ]
        }
      ],
      "source": [
        "path_commpress_img = path + '/CompressedFiles/bmp'\n",
        "ratio = []\n",
        "for i, j in zip(os.listdir(path_img), os.listdir(path_commpress_img)):\n",
        "    # with open(\"LZW_Compression_Ratio_img.txt\", \"a\") as f:\n",
        "    #     f.write(str(i.split(\".\")[0]) + \" \" + str((os.path.getsize(os.path.join(path_commpress_img, j)))/os.path.getsize(os.path.join(path_img, i))) + \"\\n\")\n",
        "    ratio.append((os.path.getsize(os.path.join(path_commpress_img, j)))/os.path.getsize(os.path.join(path_img, i)))\n",
        "    print(str(i.split(\".\")[0]) + \" \" + str((os.path.getsize(os.path.join(path_commpress_img, j)))/os.path.getsize(os.path.join(path_img, i))))"
      ]
    },
    {
      "cell_type": "code",
      "execution_count": 12,
      "metadata": {},
      "outputs": [
        {
          "name": "stdout",
          "output_type": "stream",
          "text": [
            "Mean:  0.7433571516785384\n"
          ]
        }
      ],
      "source": [
        "ratio = np.array(ratio)\n",
        "print(\"Mean: \", np.mean(ratio))"
      ]
    },
    {
      "cell_type": "code",
      "execution_count": null,
      "metadata": {},
      "outputs": [],
      "source": []
    }
  ],
  "metadata": {
    "colab": {
      "provenance": []
    },
    "kernelspec": {
      "display_name": "Python 3",
      "name": "python3"
    },
    "language_info": {
      "codemirror_mode": {
        "name": "ipython",
        "version": 3
      },
      "file_extension": ".py",
      "mimetype": "text/x-python",
      "name": "python",
      "nbconvert_exporter": "python",
      "pygments_lexer": "ipython3",
      "version": "3.9.13"
    }
  },
  "nbformat": 4,
  "nbformat_minor": 0
}
