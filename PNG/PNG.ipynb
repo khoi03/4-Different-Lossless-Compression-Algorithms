{
 "cells": [
  {
   "attachments": {},
   "cell_type": "markdown",
   "metadata": {},
   "source": [
    "note: \n",
    ".compress file phải tạo folder compress_data/BMP/\n",
    ".có vài file trong folder data/PNG/ là dạng jpeg nên sẽ không conmpress (phải convert sang png)"
   ]
  },
  {
   "cell_type": "code",
   "execution_count": 6,
   "metadata": {},
   "outputs": [],
   "source": [
    "import zlib\n",
    "import pickle\n",
    "import os"
   ]
  },
  {
   "cell_type": "code",
   "execution_count": 7,
   "metadata": {},
   "outputs": [],
   "source": [
    "def compress(image_file,compress_name):\n",
    "    with open(image_file, 'rb') as f:\n",
    "        image_data = f.read()\n",
    "    compressed_data = zlib.compress(image_data,level=9)\n",
    "    # print(compressed_data)\n",
    "    # with open('compressed_image.png', 'wb') as f:\n",
    "    #     f.write(compressed_data)\n",
    "    fileObj = open(compress_name+'.obj', 'wb')\n",
    "    pickle.dump(compressed_data,fileObj)\n",
    "    fileObj.close()\n",
    "    # print(type(compressed_data))\n"
   ]
  },
  {
   "cell_type": "code",
   "execution_count": 8,
   "metadata": {},
   "outputs": [],
   "source": [
    "\n",
    "def decompress(compressed_image_file,demp_name):\n",
    "\n",
    "    fileObj = open(compressed_image_file, 'rb')\n",
    "    compressed_data = pickle.load(fileObj)\n",
    "    fileObj.close()\n",
    "    # print(exampleObj)\n",
    "    # with open(compressed_image_file, 'rb') as f:\n",
    "    #     compressed_data = f.read()\n",
    "\n",
    "    decompressed_data = zlib.decompress(compressed_data)\n",
    "\n",
    "    with open(demp_name, 'wb') as f:\n",
    "        f.write(decompressed_data)\n"
   ]
  },
  {
   "cell_type": "code",
   "execution_count": 9,
   "metadata": {},
   "outputs": [],
   "source": [
    "def get_path(path,type):\n",
    "    # Set the path of the folder you want to search\n",
    "    folder_path = path\n",
    "\n",
    "    # Get a list of all the files in the folder\n",
    "    files = os.listdir(folder_path)\n",
    "\n",
    "    # Extract the file names without the extension\n",
    "    file_names = []\n",
    "    for file in files:\n",
    "        name, ext = os.path.splitext(file)\n",
    "        file_names.append(name)\n",
    "\n",
    "    # Print the list of file names without the extension\n",
    "    return file_names"
   ]
  },
  {
   "attachments": {},
   "cell_type": "markdown",
   "metadata": {},
   "source": [
    "BITMAP"
   ]
  },
  {
   "cell_type": "code",
   "execution_count": 21,
   "metadata": {},
   "outputs": [
    {
     "name": "stdout",
     "output_type": "stream",
     "text": [
      "cartoon 18062 7971 0.44131325434614105\n",
      "harrypotter 696106 314813 0.45224865178579127\n",
      "hanamichi 2645658 165056 0.06238750435619419\n",
      "beach 151458 58186 0.3841725098707232\n",
      "heart 316602 2789 0.008809167345752711\n",
      "rukawa 152290 96909 0.6363451310000656\n",
      "people 127858 98072 0.7670384332618999\n",
      "todolist 15126 7659 0.5063466878222928\n",
      "planet 152238 46022 0.3023029729765236\n",
      "pikachu 42930 6753 0.15730258560447238\n",
      "spiderman 22796 9561 0.41941568696262505\n",
      "2heart 4114378 23261 0.005653588464647633\n",
      "background 347018 228741 0.6591617725881654\n",
      "LAND2 787510 468736 0.5952127592030577\n"
     ]
    }
   ],
   "source": [
    "bmp_path = get_path('data/BMP','.bmp')\n",
    "path = 'data/BMP/'\n",
    "compress_path = 'compress_data/BMP/'\n",
    "compress_size = []\n",
    "og_size = []\n",
    "# print(bmp_path)\n",
    "for i in bmp_path:\n",
    "    compress(path+i+'.bmp',compress_path+i+'_comp')\n",
    "\n",
    "    fsize = os.stat(compress_path+i+'_comp.obj').st_size\n",
    "    compress_size.append(fsize)\n",
    "\n",
    "    fsize = os.stat(path+i+'.bmp').st_size\n",
    "    og_size.append(fsize)\n",
    "result = [cp/og for cp,og in zip(compress_size,og_size)]\n",
    "for a,b,c,d in  zip(bmp_path,og_size,compress_size,result):\n",
    "    print(a,b,c,d)\n",
    "\n",
    "decompress_path = get_path(compress_path,'.obj')\n",
    "decompress_path.remove('.DS_Store')\n",
    "for i in decompress_path:\n",
    "    decompress(compress_path+i+'.obj','compress_data/BMP_demp/'+i+'decomp.bmp')\n",
    "\n"
   ]
  },
  {
   "attachments": {},
   "cell_type": "markdown",
   "metadata": {},
   "source": [
    "PNG image"
   ]
  },
  {
   "cell_type": "code",
   "execution_count": 28,
   "metadata": {},
   "outputs": [
    {
     "name": "stdout",
     "output_type": "stream",
     "text": [
      "['spiderman', 'planet', 'pikachu', '2heart', 'background', 'heart', 'hanamichi', 'cartoon', 'harrypotter', 'todolist', 'people']\n",
      "spiderman 8792 8821 1.0032984531392175\n",
      "planet 38532 38571 1.0010121457489878\n",
      "pikachu 6206 6235 1.0046728971962617\n",
      "2heart 25696 21679 0.8436721668742216\n",
      "background 229419 229504 1.000370501135477\n",
      "heart 2758 2227 0.8074691805656272\n",
      "hanamichi 200218 197138 0.9846167677231817\n",
      "cartoon 7203 7232 1.0040261002360127\n",
      "harrypotter 251838 251933 1.0003772266298177\n",
      "todolist 6820 6847 1.0039589442815249\n",
      "people 63039 63083 1.0006979806151748\n"
     ]
    }
   ],
   "source": [
    "bmp_path = get_path('data/PNG/','.png')\n",
    "path = 'data/PNG/'\n",
    "compress_path = 'compress_data/PNG/'\n",
    "# bmp_path.remove('.DS_Store')\n",
    "bmp_path.remove('beach')\n",
    "bmp_path.remove('rukawa')\n",
    "print(bmp_path)\n",
    "compress_size = []\n",
    "og_size = []\n",
    "# print(bmp_path)\n",
    "for i in bmp_path:\n",
    "    compress(path+i+'.png',compress_path+i+'_comp')\n",
    "for i in bmp_path:\n",
    "    fsize = os.stat(compress_path+i+'_comp.obj').st_size\n",
    "    compress_size.append(fsize)\n",
    "for i in bmp_path:\n",
    "    fsize = os.stat(path+i+'.png').st_size\n",
    "    og_size.append(fsize)\n",
    "result = [cp/og for cp,og in zip(compress_size,og_size)]\n",
    "for a,b,c,d in  zip(bmp_path,og_size,compress_size,result):\n",
    "    print(a,b,c,d)"
   ]
  },
  {
   "attachments": {},
   "cell_type": "markdown",
   "metadata": {},
   "source": [
    "SOUND"
   ]
  },
  {
   "cell_type": "code",
   "execution_count": 23,
   "metadata": {},
   "outputs": [
    {
     "name": "stdout",
     "output_type": "stream",
     "text": [
      "['00ae03f6', '00eac343', 'sound', '0a5cbf90']\n",
      "00ae03f6 785024 672680 0.856890999510843\n",
      "00eac343 98828 66683 0.6747379285222811\n",
      "sound 1275750 668721 0.5241787184009407\n",
      "0a5cbf90 398708 261883 0.6568290578568777\n"
     ]
    }
   ],
   "source": [
    "path = 'data/SOUND/'\n",
    "bmp_path = get_path(path,'.wav')\n",
    "compress_path = 'compress_data/SOUND/'\n",
    "# bmp_path.remove('.DS_Store')\n",
    "print(bmp_path)\n",
    "compress_size = []\n",
    "og_size = []\n",
    "# print(bmp_path)\n",
    "for i in bmp_path:\n",
    "    compress(path+i+'.wav',compress_path+i+'_comp')\n",
    "for i in bmp_path:\n",
    "    fsize = os.stat(compress_path+i+'_comp.obj').st_size\n",
    "    compress_size.append(fsize)\n",
    "for i in bmp_path:\n",
    "    fsize = os.stat(path+i+'.wav').st_size\n",
    "    og_size.append(fsize)\n",
    "result = [cp/og for cp,og in zip(compress_size,og_size)]\n",
    "for a,b,c,d in  zip(bmp_path,og_size,compress_size,result):\n",
    "    print(a,b,c,d)\n",
    "\n",
    "decompress_path = get_path(compress_path,'.obj')\n",
    "decompress_path.remove('.DS_Store')\n",
    "for i in decompress_path:\n",
    "    decompress(compress_path+i+'.obj',compress_path+i+'decomp.wav')\n",
    "    \n"
   ]
  },
  {
   "attachments": {},
   "cell_type": "markdown",
   "metadata": {},
   "source": [
    "TEXT"
   ]
  },
  {
   "cell_type": "code",
   "execution_count": null,
   "metadata": {},
   "outputs": [
    {
     "name": "stdout",
     "output_type": "stream",
     "text": [
      "['Text1', 'Text3', 'Text2', 'Text']\n",
      "Text1 5993 2819 0.470382112464542\n",
      "Text3 3541 1820 0.5139791019486021\n",
      "Text2 5571 2628 0.4717285945072698\n",
      "Text 4813 2311 0.48015790567213795\n"
     ]
    }
   ],
   "source": [
    "path = 'data/TEXT/'\n",
    "bmp_path = get_path(path,'.txt')\n",
    "compress_path = 'compress_data/TEXT/'\n",
    "# bmp_path.remove('.DS_Store')\n",
    "print(bmp_path)\n",
    "compress_size = []\n",
    "og_size = []\n",
    "# print(bmp_path)\n",
    "for i in bmp_path:\n",
    "    compress(path+i+'.txt',compress_path+i+'_comp')\n",
    "for i in bmp_path:\n",
    "    fsize = os.stat(compress_path+i+'_comp.obj').st_size\n",
    "    compress_size.append(fsize)\n",
    "for i in bmp_path:\n",
    "    fsize = os.stat(path+i+'.txt').st_size\n",
    "    og_size.append(fsize)\n",
    "result = [cp/og for cp,og in zip(compress_size,og_size)]\n",
    "for a,b,c,d in  zip(bmp_path,og_size,compress_size,result):\n",
    "    print(a,b,c,d)\n",
    "\n",
    "decompress_path = get_path(compress_path,'.obj')\n",
    "for i in decompress_path:\n",
    "    decompress(compress_path+i+'.obj',compress_path+i+'decomp.txt')"
   ]
  }
 ],
 "metadata": {
  "kernelspec": {
   "display_name": "cs232",
   "language": "python",
   "name": "python3"
  },
  "language_info": {
   "codemirror_mode": {
    "name": "ipython",
    "version": 3
   },
   "file_extension": ".py",
   "mimetype": "text/x-python",
   "name": "python",
   "nbconvert_exporter": "python",
   "pygments_lexer": "ipython3",
   "version": "3.9.16"
  },
  "orig_nbformat": 4
 },
 "nbformat": 4,
 "nbformat_minor": 2
}
